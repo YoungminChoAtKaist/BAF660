{
 "cells": [
  {
   "cell_type": "code",
   "execution_count": null,
   "metadata": {},
   "outputs": [
    {
     "name": "stdout",
     "output_type": "stream",
     "text": [
      "2025-04-11 | ICN → LHR | Prices: ['₩1,147,900', '', '', '₩1,160,680', '', '', '₩1,397,000', '', '', '₩1,399,800', '', '', '₩1,202,600', '', '', '₩1,257,700', '', '', '₩1,321,700', '', '', '', '', '', '', '', '', '', '', '', '', '', '', '', '', '', '', '', '', '', '', '']\n"
     ]
    }
   ],
   "source": [
    "from selenium import webdriver\n",
    "from selenium.webdriver.chrome.options import Options\n",
    "from selenium.webdriver.common.by import By\n",
    "import time\n",
    "\n",
    "def scrape_google_flights_all_prices(origin, destination, depart_date):\n",
    "    # Chrome 옵션 설정\n",
    "    options = Options()\n",
    "    options.add_argument(\"--headless\")  # 브라우저 창 없이 실행\n",
    "    options.add_argument(\"--disable-gpu\")\n",
    "    options.add_argument(\"--no-sandbox\")\n",
    "    options.add_argument(\n",
    "        \"user-agent=Mozilla/5.0 (Windows NT 10.0; Win64; x64) AppleWebKit/537.36 (KHTML, like Gecko) Chrome/58.0.3029.110 Safari/537.3\"\n",
    "    )  # User-Agent 설정\n",
    "\n",
    "    # Chrome WebDriver 실행\n",
    "    driver = webdriver.Chrome(options=options)\n",
    "\n",
    "    # Google Flights URL 생성\n",
    "    url = f\"https://www.google.com/travel/flights?q=Flights%20from%20{origin}%20to%20{destination}%20on%20{depart_date}\"\n",
    "    driver.get(url)\n",
    "    \n",
    "    # 페이지 로딩 대기\n",
    "    time.sleep(15)  # 동적 콘텐츠 로딩 시간 필요\n",
    "\n",
    "    try:\n",
    "        # 전체 가격 정보 추출\n",
    "        price_elements = driver.find_elements(By.XPATH, '//div[@class=\"YMlIz FpEdX\"]')\n",
    "        prices = [price.text for price in price_elements]\n",
    "        \n",
    "        # 결과 출력\n",
    "        print(f\"{depart_date} | {origin} → {destination} | Prices: {prices}\")\n",
    "    except Exception as e:\n",
    "        print(f\"{depart_date} | Failed to extract prices: {e}\")\n",
    "    finally:\n",
    "        driver.quit()\n",
    "\n",
    "# 예시 실행\n",
    "scrape_google_flights_all_prices(\"ICN\", \"LHR\", \"2025-04-11\")"
   ]
  },
  {
   "cell_type": "code",
   "execution_count": null,
   "metadata": {},
   "outputs": [],
   "source": [
    "#2025-04-10 | ICN → LHR | Prices: ['₩1,397,000', '', '', '₩1,399,800', '', '', '₩1,226,300', '', '', '₩1,264,200', '', '', '₩1,357,800', '', '', '₩1,491,000', '', '', '₩1,624,300', '', '', '', '', '', '', '', '', '', '', '', '', '', '', '', '', '', '', '', '', '', '', '']\n",
    "#2025-04-10 | ICN → LHR | Prices: ['₩1,397,000', '', '', '₩1,399,800', '', '', '₩1,226,300', '', '', '₩1,264,200', '', '', '₩1,357,800', '', '', '₩1,491,000', '', '', '₩1,624,300', '', '', '', '', '', '', '', '', '', '', '', '', '', '', '', '', '', '', '', '', '', '', '']"
   ]
  },
  {
   "cell_type": "code",
   "execution_count": null,
   "metadata": {},
   "outputs": [],
   "source": []
  }
 ],
 "metadata": {
  "kernelspec": {
   "display_name": "base",
   "language": "python",
   "name": "python3"
  },
  "language_info": {
   "codemirror_mode": {
    "name": "ipython",
    "version": 3
   },
   "file_extension": ".py",
   "mimetype": "text/x-python",
   "name": "python",
   "nbconvert_exporter": "python",
   "pygments_lexer": "ipython3",
   "version": "3.10.14"
  }
 },
 "nbformat": 4,
 "nbformat_minor": 2
}
