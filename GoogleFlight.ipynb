{
 "cells": [
  {
   "cell_type": "code",
   "execution_count": 35,
   "metadata": {},
   "outputs": [
    {
     "name": "stdout",
     "output_type": "stream",
     "text": [
      "2025-04-11 | ICN → LHR\n",
      "         Date Origin Destination        Airline    Price\n",
      "0  2025-04-11    ICN         LHR          에어프랑스  1013200\n",
      "1  2025-04-11    ICN         LHR            KLM  1096700\n",
      "2  2025-04-11    ICN         LHR          에어차이나  1139093\n",
      "3  2025-04-11    ICN         LHR         아시아나항공  1398100\n",
      "4  2025-04-11    ICN         LHR  대한항공버진 애틀랜틱항공  1400900\n"
     ]
    }
   ],
   "source": [
    "import pandas as pd\n",
    "from selenium import webdriver\n",
    "from selenium.webdriver.chrome.options import Options\n",
    "from selenium.webdriver.common.by import By\n",
    "import time\n",
    "\n",
    "def scrape_google_flights_all_prices(origin, destination, depart_date):\n",
    "    # Chrome 옵션 설정\n",
    "    options = Options()\n",
    "    options.add_argument(\"--headless\")  # 브라우저 창 없이 실행\n",
    "    options.add_argument(\"--disable-gpu\")\n",
    "    options.add_argument(\"--no-sandbox\")\n",
    "    options.add_argument(\n",
    "        \"user-agent=Mozilla/5.0 (Windows NT 10.0; Win64; x64) AppleWebKit/537.36 (KHTML, like Gecko) Chrome/58.0.3029.110 Safari/537.3\"\n",
    "    )  # User-Agent 설정\n",
    "\n",
    "    # Chrome WebDriver 실행\n",
    "    driver = webdriver.Chrome(options=options)\n",
    "\n",
    "    # Google Flights URL 생성\n",
    "    url = f\"https://www.google.com/travel/flights?q=Flights%20from%20{origin}%20to%20{destination}%20on%20{depart_date}\"\n",
    "    driver.get(url)\n",
    "    \n",
    "    # 페이지 로딩 대기\n",
    "    time.sleep(60)  # 동적 콘텐츠 로딩 시간 필요\n",
    "\n",
    "    try:\n",
    "        # 전체 가격 정보 추출 (# 인기항공권으로 한정 )\n",
    "        price_elements = driver.find_elements(By.XPATH, '//div[@jsname=\"IWWDBc\"]//div[@class=\"U3gSDe\"]//div[@class=\"BVAVmf I11szd POX3ye\"]//div[contains(@class,\"YMlIz FpEdX\")]')\n",
    "        prices = [price.text.replace(\"₩\",\"\").replace(\",\",\"\") for price in price_elements]\n",
    "\n",
    "        # 항공사 정보 추출 (# 인기항공권으로 한정 )\n",
    "        airline_elements = driver.find_elements(By.XPATH, '//div[@jsname=\"IWWDBc\"]//div[@class=\"OgQvJf nKlB3b\"]//div[@class=\"KhL0De\"]//div[@class=\"Ir0Voe\"]//div[@class=\"sSHqwe tPgKwe ogfYpf\"]')\n",
    "        airlines = [airline.text.replace(\"\\n\",\" \").replace(\"함께 예약된 다구간 항공권 \",\"\") for airline in airline_elements]\n",
    "\n",
    "        # 가격과 항공사 정보 필터링 (빈 값 제거)\n",
    "        prices = filter(None, prices)\n",
    "        airlines = filter(None, airlines)\n",
    "\n",
    "        # 가격과 항공사 정보 매핑\n",
    "        results = list(zip(airlines, prices))\n",
    "\n",
    "        # 출발지, 목적지, 날짜를 포함한 데이터프레임 생성\n",
    "        df = pd.DataFrame(results, columns=[\"Airline\", \"Price\"])\n",
    "        df[\"Origin\"] = origin\n",
    "        df[\"Destination\"] = destination\n",
    "        df[\"Date\"] = depart_date\n",
    "\n",
    "        # 열 순서 재정렬 (Date를 첫 번째 열로 이동)\n",
    "        df = df[[\"Date\", \"Origin\", \"Destination\", \"Airline\", \"Price\"]]\n",
    "        \n",
    "        # 데이터프레임 출력\n",
    "        print(f\"{depart_date} | {origin} → {destination}\")\n",
    "        print(df)\n",
    "\n",
    "        # 데이터프레임을 CSV 파일로 저장\n",
    "        output_file = f\"flights_{depart_date}.csv\"\n",
    "        df.to_csv(output_file, index=False, encoding=\"utf-8\")\n",
    "    except Exception as e:\n",
    "        print(f\"{depart_date} | Failed to extract prices: {e}\")\n",
    "    finally:\n",
    "        driver.quit()\n",
    "\n",
    "# 예시 실행\n",
    "scrape_google_flights_all_prices(\"ICN\", \"LHR\", \"2025-04-11\")"
   ]
  }
 ],
 "metadata": {
  "kernelspec": {
   "display_name": "Python 3",
   "language": "python",
   "name": "python3"
  },
  "language_info": {
   "codemirror_mode": {
    "name": "ipython",
    "version": 3
   },
   "file_extension": ".py",
   "mimetype": "text/x-python",
   "name": "python",
   "nbconvert_exporter": "python",
   "pygments_lexer": "ipython3",
   "version": "3.12.0"
  }
 },
 "nbformat": 4,
 "nbformat_minor": 2
}
