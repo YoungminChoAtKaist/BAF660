{
 "cells": [
  {
   "cell_type": "code",
   "execution_count": null,
   "metadata": {},
   "outputs": [],
   "source": [
    "!pip install pyupbit"
   ]
  },
  {
   "cell_type": "code",
   "execution_count": null,
   "metadata": {},
   "outputs": [],
   "source": [
    "!pip install ace_tools"
   ]
  },
  {
   "cell_type": "code",
   "execution_count": null,
   "metadata": {},
   "outputs": [],
   "source": [
    "# Windows + Anaconda + numpy + scikit-learn 조합일 경우 os 셋팅 추가\n",
    "import os\n",
    "os.environ[\"OMP_NUM_THREADS\"] = \"1\"\n",
    "os.environ[\"OPENBLAS_NUM_THREADS\"] = \"1\"\n",
    "os.environ[\"MKL_NUM_THREADS\"] = \"1\"\n",
    "os.environ[\"VECLIB_MAXIMUM_THREADS\"] = \"1\"\n",
    "os.environ[\"NUMEXPR_NUM_THREADS\"] = \"1\"\n",
    "\n",
    "import requests\n",
    "import numpy as np\n",
    "import pandas as pd\n",
    "import pyupbit as pyu\n",
    "import re\n",
    "from datetime import datetime\n",
    "from sklearn.cluster import KMeans\n",
    "from sklearn.preprocessing import StandardScaler\n",
    "from sklearn.decomposition import PCA\n",
    "from sklearn.ensemble import RandomForestClassifier\n",
    "from sklearn.model_selection import train_test_split\n",
    "from sklearn.metrics import classification_report, confusion_matrix, roc_auc_score\n",
    "from sklearn.metrics import silhouette_score\n",
    "\n",
    "from scipy.spatial.distance import pdist, squareform\n",
    "from scipy.cluster.hierarchy import linkage, fcluster, dendrogram\n",
    "from sklearn.preprocessing import StandardScaler\n",
    "from IPython.display import display\n",
    "\n",
    "import tensorflow as tf\n",
    "from tensorflow.keras.models import Sequential\n",
    "from tensorflow.keras.layers import LSTM, Dense\n",
    "\n",
    "import matplotlib.pyplot as plt\n",
    "from mpl_toolkits.mplot3d import Axes3D\n",
    "import seaborn as sns"
   ]
  },
  {
   "cell_type": "code",
   "execution_count": null,
   "metadata": {},
   "outputs": [],
   "source": [
    "from google.colab import drive\n",
    "drive.mount('/content/drive')"
   ]
  },
  {
   "cell_type": "markdown",
   "metadata": {},
   "source": [
    "### 가상화폐 기본정보 가져오기"
   ]
  },
  {
   "cell_type": "code",
   "execution_count": null,
   "metadata": {},
   "outputs": [],
   "source": [
    "# KRW Market ticker 추출\n",
    "url_market = \"https://api.upbit.com/v1/market/all\"\n",
    "url_ticker = \"https://api.upbit.com/v1/ticker\"\n",
    "\n",
    "markets_resp = requests.get(url_market)\n",
    "markets_data = markets_resp.json()\n",
    "\n",
    "\n",
    "\n",
    "krw_markets = [market['market'] for market in markets_data if market['market'].startswith('KRW-')]\n",
    "\n",
    "df_crypto = pd.DataFrame({\"market\" : [full_ticker.split(\"-\")[0]  for full_ticker in krw_markets],\n",
    "                          \"coin_name\" : [full_ticker.split(\"-\")[1]  for full_ticker in krw_markets],\n",
    "                          \"ticker\" : krw_markets\n",
    "                         }\n",
    "                        )"
   ]
  },
  {
   "cell_type": "code",
   "execution_count": null,
   "metadata": {},
   "outputs": [],
   "source": [
    "def parse_market_cap(text):\n",
    "    # 숫자와 단위를 추출\n",
    "    word_match = re.search(r'([\\d,.]+)([억만조])원', text)\n",
    "    number = float(word_match.group(1).replace(',', ''))\n",
    "    unit = word_match.group(2)\n",
    "\n",
    "    unit_multipliers = {\n",
    "        '만': 10000,\n",
    "        '억': 100000000,\n",
    "        '조': 1000000000000,\n",
    "    }\n",
    "    market_cap_numeric = number * unit_multipliers[unit]\n",
    "\n",
    "    # 날짜를 추출하여 YYYY-MM-DD 형식으로 변환\n",
    "    date_match = re.search(r'\\((\\d{2}\\.\\d{2}\\.\\d{2})\\. 기준\\)', text)\n",
    "    date_str = date_match.group(1)\n",
    "    date_formatted = datetime.strptime(date_str, '%y.%m.%d').strftime('%Y-%m-%d')\n",
    "\n",
    "    return market_cap_numeric, date_formatted, unit"
   ]
  },
  {
   "cell_type": "code",
   "execution_count": null,
   "metadata": {},
   "outputs": [],
   "source": [
    "for i in range(len(df_crypto)):\n",
    "    try:\n",
    "        total_amount = requests.get(\"https://api-manager.upbit.com/api/v1/coin_info/pub/{}.json\".format(df_crypto.coin_name[i])).json()['data']['header_key_values']['market_cap']['value']\n",
    "\n",
    "        market_cap_numeric, date_formatted, unit = parse_market_cap(total_amount)\n",
    "\n",
    "        df_crypto.loc[i, \"total_amount\"] = total_amount\n",
    "        df_crypto.loc[i, \"total_amount_value\"] = market_cap_numeric\n",
    "        df_crypto.loc[i, \"unit\"] = unit\n",
    "        df_crypto.loc[i, \"reference_date\"] = date_formatted\n",
    "    except Exception as e:\n",
    "        print(df_crypto.coin_name[i])"
   ]
  },
  {
   "cell_type": "markdown",
   "metadata": {},
   "source": [
    "### 시세데이터 가져오기"
   ]
  },
  {
   "cell_type": "code",
   "execution_count": null,
   "metadata": {},
   "outputs": [],
   "source": [
    "now = datetime.now()\n",
    "formatted_time = now.strftime(\"%Y%m%d %H:%M:%S\")\n",
    "\n",
    "df_crypto_ohlcv = pd.DataFrame()\n",
    "\n",
    "for crypto in df_crypto.ticker.tolist():\n",
    "    # count : 가져올 기간 수\n",
    "    # to : 기간 최대 일자\n",
    "    # period : 데이터 요청 주기 (초)\n",
    "    try:\n",
    "        crypto_price = pyu.get_ohlcv(ticker=crypto,\n",
    "                                    interval='day',\n",
    "                                    count=365,\n",
    "                                    to=formatted_time,\n",
    "                                    period=0.1)\n",
    "        crypto_price.insert(1, \"ticker\", crypto)\n",
    "\n",
    "        # 이동평균 산출\n",
    "        crypto_price['ma_05'] = crypto_price['close'].rolling(window=5).mean()\n",
    "        crypto_price['ma_10'] = crypto_price['close'].rolling(window=10).mean()\n",
    "        crypto_price['ma_20'] = crypto_price['close'].rolling(window=20).mean()\n",
    "        crypto_price['ma_30'] = crypto_price['close'].rolling(window=30).mean()\n",
    "        crypto_price['ma_60'] = crypto_price['close'].rolling(window=60).mean()\n",
    "        crypto_price['ma_120'] = crypto_price['close'].rolling(window=120).mean()\n",
    "        crypto_price['ma_200'] = crypto_price['close'].rolling(window=200).mean()\n",
    "\n",
    "        # RSI(Relative Strength Index) 산출\n",
    "        delta = crypto_price['close'].diff()\n",
    "        gain = delta.where(delta > 0, 0)\n",
    "        loss = -delta.where(delta < 0, 0)\n",
    "        avg_gain = gain.rolling(window=14).mean()\n",
    "        avg_loss = loss.rolling(window=14).mean()\n",
    "        rs = avg_gain / avg_loss\n",
    "        crypto_price['rsi'] = 100 - (100 / (1 + rs))\n",
    "\n",
    "        # MACD 산출\n",
    "        ema12 = crypto_price['close'].ewm(span=12, adjust=False).mean()\n",
    "        ema26 = crypto_price['close'].ewm(span=26, adjust=False).mean()\n",
    "        crypto_price['macd'] = ema12 - ema26\n",
    "        crypto_price['signal'] = crypto_price['macd'].ewm(span=9, adjust=False).mean()\n",
    "        crypto_price['macd_hist'] = crypto_price['macd'] - crypto_price['signal']\n",
    "\n",
    "        # DMA(Difference of Moving Averages) 산출\n",
    "        short_ma = crypto_price['close'].rolling(window=10).mean()\n",
    "        long_ma = crypto_price['close'].rolling(window=50).mean()\n",
    "        crypto_price['dma'] = short_ma - long_ma\n",
    "\n",
    "        # 볼린저 밴드 (Bollinger Bands) 산출\n",
    "        crypto_price['std20'] = crypto_price['close'].rolling(window=20).std()\n",
    "        crypto_price['Upperbb'] = crypto_price['ma_20'] + (2 * crypto_price['std20'])\n",
    "        crypto_price['Lowerbb'] = crypto_price['ma_20'] - (2 * crypto_price['std20'])\n",
    "\n",
    "\n",
    "        df_crypto_ohlcv = pd.concat([df_crypto_ohlcv, crypto_price], axis=0)\n",
    "    except Exception as e:\n",
    "        print(crypto)"
   ]
  },
  {
   "cell_type": "code",
   "execution_count": null,
   "metadata": {},
   "outputs": [],
   "source": [
    "# 데이터 저장\n",
    "df_crypto_ohlcv.to_parquet(\"df_crypto_ohlcv_daily.parquet\")\n",
    "df_crypto_ohlcv.to_csv(\"df_crypto_ohlcv_daily.csv\")"
   ]
  }
 ],
 "metadata": {
  "kernelspec": {
   "display_name": "FinancialDataAnalytics (Python 3.11.9)",
   "language": "python",
   "name": "financialdataanalytics"
  },
  "language_info": {
   "name": "python",
   "version": "3.11.9"
  }
 },
 "nbformat": 4,
 "nbformat_minor": 2
}
